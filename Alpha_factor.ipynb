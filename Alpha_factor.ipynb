{
  "nbformat": 4,
  "nbformat_minor": 0,
  "metadata": {
    "colab": {
      "provenance": [],
      "authorship_tag": "ABX9TyPWe/Z/swSv6rEez0UopXho",
      "include_colab_link": true
    },
    "kernelspec": {
      "name": "python3",
      "display_name": "Python 3"
    },
    "language_info": {
      "name": "python"
    }
  },
  "cells": [
    {
      "cell_type": "markdown",
      "metadata": {
        "id": "view-in-github",
        "colab_type": "text"
      },
      "source": [
        "<a href=\"https://colab.research.google.com/github/enerdb/Finance_alpha_factors/blob/main/Alpha_factor.ipynb\" target=\"_parent\"><img src=\"https://colab.research.google.com/assets/colab-badge.svg\" alt=\"Open In Colab\"/></a>"
      ]
    },
    {
      "cell_type": "code",
      "source": [],
      "metadata": {
        "id": "1MHWkeXifGRU"
      },
      "execution_count": null,
      "outputs": []
    },
    {
      "cell_type": "markdown",
      "source": [
        "#Imports & Settings "
      ],
      "metadata": {
        "id": "uHAASW3RbmJB"
      }
    },
    {
      "cell_type": "code",
      "execution_count": 1,
      "metadata": {
        "id": "mnQxFqojbNZQ",
        "colab": {
          "base_uri": "https://localhost:8080/"
        },
        "outputId": "ec706df6-a2c4-4a79-992a-131588936952"
      },
      "outputs": [
        {
          "output_type": "stream",
          "name": "stdout",
          "text": [
            "\u001b[?25l     \u001b[90m━━━━━━━━━━━━━━━━━━━━━━━━━━━━━━━━━━━━━━━━\u001b[0m \u001b[32m0.0/59.1 KB\u001b[0m \u001b[31m?\u001b[0m eta \u001b[36m-:--:--\u001b[0m\r\u001b[2K     \u001b[90m━━━━━━━━━━━━━━━━━━━━━━━━━━━━━━━━━━━━━━━━\u001b[0m \u001b[32m59.1/59.1 KB\u001b[0m \u001b[31m3.8 MB/s\u001b[0m eta \u001b[36m0:00:00\u001b[0m\n",
            "\u001b[2K     \u001b[90m━━━━━━━━━━━━━━━━━━━━━━━━━━━━━━━━━━━━━━━━\u001b[0m \u001b[32m62.8/62.8 KB\u001b[0m \u001b[31m4.1 MB/s\u001b[0m eta \u001b[36m0:00:00\u001b[0m\n",
            "\u001b[2K     \u001b[90m━━━━━━━━━━━━━━━━━━━━━━━━━━━━━━━━━━━━━━━\u001b[0m \u001b[32m129.4/129.4 KB\u001b[0m \u001b[31m9.9 MB/s\u001b[0m eta \u001b[36m0:00:00\u001b[0m\n",
            "\u001b[2K     \u001b[90m━━━━━━━━━━━━━━━━━━━━━━━━━━━━━━━━━━━━━━━\u001b[0m \u001b[32m111.0/111.0 KB\u001b[0m \u001b[31m7.9 MB/s\u001b[0m eta \u001b[36m0:00:00\u001b[0m\n",
            "\u001b[2K     \u001b[90m━━━━━━━━━━━━━━━━━━━━━━━━━━━━━━━━━━━━━━\u001b[0m \u001b[32m112.2/112.2 KB\u001b[0m \u001b[31m11.1 MB/s\u001b[0m eta \u001b[36m0:00:00\u001b[0m\n",
            "\u001b[2K     \u001b[90m━━━━━━━━━━━━━━━━━━━━━━━━━━━━━━━━━━━━━━━━\u001b[0m \u001b[32m4.2/4.2 MB\u001b[0m \u001b[31m27.6 MB/s\u001b[0m eta \u001b[36m0:00:00\u001b[0m\n",
            "\u001b[?25h"
          ]
        }
      ],
      "source": [
        "! pip install yfinance --quiet\n",
        "\n",
        "import warnings\n",
        "warnings.filterwarnings('ignore')\n",
        "\n",
        "%matplotlib inline\n",
        "\n",
        "from datetime import datetime\n",
        "import pandas as pd\n",
        "import pandas_datareader.data as web\n",
        "import yfinance as yf\n",
        "\n",
        "# replaces pyfinance.ols.PandasRollingOLS (no longer maintained)\n",
        "from statsmodels.regression.rolling import RollingOLS\n",
        "import statsmodels.api as sm\n",
        "\n",
        "import matplotlib.pyplot as plt\n",
        "import seaborn as sns\n",
        "\n",
        "sns.set_style('whitegrid')\n",
        "idx = pd.IndexSlice"
      ]
    },
    {
      "cell_type": "markdown",
      "source": [
        "# Get Data"
      ],
      "metadata": {
        "id": "NGu8y8Web6Un"
      }
    },
    {
      "cell_type": "markdown",
      "source": [
        "We need 2 DataFrames:\n",
        "* prices: containing the adj_close of stocks (columns) from START to END (rows).\n",
        "* stocks: Stocks (index) with their actual marketcap, ipo year, and sector.\n",
        "\n"
      ],
      "metadata": {
        "id": "Bw-8unlccIK2"
      }
    },
    {
      "cell_type": "code",
      "source": [
        "tickers = \"RRRP3\tALSO3\tABEV3\tASAI3\tAZUL4\tB3SA3\tBBSE3\tBBDC4\tBBAS3\tBRFS3\tBPAC11\tCMIG4\tCIEL3\tCSAN3\tCVCB3\tCYRE3\tELET3\tELET6\tEQTL3\tGGBR4\tNTCO3\tHAPV3\tHYPE3\tITSA4\tITUB4\tJBSS3\tKLBN11\tRENT3\tLWSA3\tLREN3\tMGLU3\tMRFG3\tMULT3\tPETR3\tPETR4\tPRIO3\tPETZ3\tRADL3\tRDOR3\tRAIL3\tSBSP3\tCSNA3\tSUZB3\tTOTS3\tUSIM5\tVALE3\tVIIA3\tVBBR3\tWEGE3\".split('\\t')\n",
        "tickers = [x + '.SA' for x in tickers]\n",
        "\n",
        "prices = yf.download(tickers = tickers, period = '5y')['Adj Close']"
      ],
      "metadata": {
        "id": "qWXvDd2aiax1",
        "colab": {
          "base_uri": "https://localhost:8080/"
        },
        "outputId": "8fb2aaf1-33d1-4b18-810b-02079e798487"
      },
      "execution_count": 2,
      "outputs": [
        {
          "output_type": "stream",
          "name": "stdout",
          "text": [
            "[*********************100%***********************]  49 of 49 completed\n"
          ]
        }
      ]
    },
    {
      "cell_type": "code",
      "source": [
        "prices = prices.tz_localize(None)"
      ],
      "metadata": {
        "id": "wMVIlX1HFAj3"
      },
      "execution_count": 3,
      "outputs": []
    },
    {
      "cell_type": "code",
      "source": [
        "start_time = prices.index[0]"
      ],
      "metadata": {
        "id": "OGv46phN8w3n"
      },
      "execution_count": 4,
      "outputs": []
    },
    {
      "cell_type": "markdown",
      "source": [
        "## Create monthly return series"
      ],
      "metadata": {
        "id": "xQW6d53ZuUen"
      }
    },
    {
      "cell_type": "code",
      "source": [
        "monthly_prices = prices.resample('M').last()"
      ],
      "metadata": {
        "id": "IHiJu11duaqe"
      },
      "execution_count": 5,
      "outputs": []
    },
    {
      "cell_type": "markdown",
      "source": [
        "To capture time series dynamics that reflect, for example, momentum patterns, we compute historical returns using the method .pct_change(n_periods), that is, returns over various monthly periods as identified by lags.\n",
        "\n",
        "We then convert the wide result back to long format with the .stack() method, use .pipe() to apply the .clip() method to the resulting DataFrame, and winsorize returns at the [1%, 99%] levels; that is, we cap outliers at these percentiles.\n",
        "\n",
        "Finally, we normalize returns using the geometric average. After using .swaplevel() to change the order of the MultiIndex levels, we obtain compounded monthly returns for six periods ranging from 1 to 12 months:"
      ],
      "metadata": {
        "id": "J7-GlPb4us81"
      }
    },
    {
      "cell_type": "code",
      "source": [
        "outlier_cutoff = 0.01\n",
        "data = pd.DataFrame()\n",
        "lags = [1, 2, 3, 6, 9, 12]\n",
        "for lag in lags:\n",
        "    data[f'return_{lag}m'] = (monthly_prices\n",
        "                           .pct_change(lag)\n",
        "                           .stack()\n",
        "                           .pipe(lambda x: x.clip(lower=x.quantile(outlier_cutoff),\n",
        "                                                  upper=x.quantile(1-outlier_cutoff)))\n",
        "                           .add(1)\n",
        "                           .pow(1/lag)\n",
        "                           .sub(1)\n",
        "                           )\n",
        "data = data.swaplevel().dropna()\n",
        "data.info()"
      ],
      "metadata": {
        "colab": {
          "base_uri": "https://localhost:8080/"
        },
        "id": "ecDKqzZtu-zu",
        "outputId": "d6c22fe4-add9-4ba6-8ddc-c069f7a0db29"
      },
      "execution_count": 6,
      "outputs": [
        {
          "output_type": "stream",
          "name": "stdout",
          "text": [
            "<class 'pandas.core.frame.DataFrame'>\n",
            "MultiIndex: 2217 entries, ('ABEV3.SA', Timestamp('2019-02-28 00:00:00', freq='M')) to ('WEGE3.SA', Timestamp('2023-02-28 00:00:00', freq='M'))\n",
            "Data columns (total 6 columns):\n",
            " #   Column      Non-Null Count  Dtype  \n",
            "---  ------      --------------  -----  \n",
            " 0   return_1m   2217 non-null   float64\n",
            " 1   return_2m   2217 non-null   float64\n",
            " 2   return_3m   2217 non-null   float64\n",
            " 3   return_6m   2217 non-null   float64\n",
            " 4   return_9m   2217 non-null   float64\n",
            " 5   return_12m  2217 non-null   float64\n",
            "dtypes: float64(6)\n",
            "memory usage: 112.3+ KB\n"
          ]
        }
      ]
    },
    {
      "cell_type": "code",
      "source": [
        "data.index.rename(['Ticker', 'Date'], inplace=True)"
      ],
      "metadata": {
        "id": "cpy_SXtBniOQ"
      },
      "execution_count": 7,
      "outputs": []
    },
    {
      "cell_type": "code",
      "source": [
        "data.info()"
      ],
      "metadata": {
        "colab": {
          "base_uri": "https://localhost:8080/"
        },
        "id": "eeYT9YkQlYwP",
        "outputId": "f2aa386f-851b-45dc-96d5-e7842278f564"
      },
      "execution_count": 8,
      "outputs": [
        {
          "output_type": "stream",
          "name": "stdout",
          "text": [
            "<class 'pandas.core.frame.DataFrame'>\n",
            "MultiIndex: 2217 entries, ('ABEV3.SA', Timestamp('2019-02-28 00:00:00', freq='M')) to ('WEGE3.SA', Timestamp('2023-02-28 00:00:00', freq='M'))\n",
            "Data columns (total 6 columns):\n",
            " #   Column      Non-Null Count  Dtype  \n",
            "---  ------      --------------  -----  \n",
            " 0   return_1m   2217 non-null   float64\n",
            " 1   return_2m   2217 non-null   float64\n",
            " 2   return_3m   2217 non-null   float64\n",
            " 3   return_6m   2217 non-null   float64\n",
            " 4   return_9m   2217 non-null   float64\n",
            " 5   return_12m  2217 non-null   float64\n",
            "dtypes: float64(6)\n",
            "memory usage: 112.3+ KB\n"
          ]
        }
      ]
    },
    {
      "cell_type": "markdown",
      "source": [
        "## Drop stocks with less than 3 years of returns"
      ],
      "metadata": {
        "id": "ehW3ONj4yqto"
      }
    },
    {
      "cell_type": "markdown",
      "source": [
        "Preciso descobrir como trabalhar com os levels dos índices por nome ou já pesquisar o groupby com multiindex"
      ],
      "metadata": {
        "id": "Auhe1oLk0FvP"
      }
    },
    {
      "cell_type": "code",
      "source": [
        "min_obs = 36\n",
        "nobs = data.groupby(level='Ticker').size()\n",
        "keep = nobs[nobs>min_obs].index\n",
        "\n",
        "data = data.loc[idx[keep,:], :]\n",
        "data.info()"
      ],
      "metadata": {
        "colab": {
          "base_uri": "https://localhost:8080/"
        },
        "id": "4mYVC59nlbsI",
        "outputId": "53f995ad-b8c9-401b-f8da-ae0ed7993410"
      },
      "execution_count": 9,
      "outputs": [
        {
          "output_type": "stream",
          "name": "stdout",
          "text": [
            "<class 'pandas.core.frame.DataFrame'>\n",
            "MultiIndex: 2104 entries, ('ABEV3.SA', Timestamp('2019-02-28 00:00:00', freq='M')) to ('WEGE3.SA', Timestamp('2023-02-28 00:00:00', freq='M'))\n",
            "Data columns (total 6 columns):\n",
            " #   Column      Non-Null Count  Dtype  \n",
            "---  ------      --------------  -----  \n",
            " 0   return_1m   2104 non-null   float64\n",
            " 1   return_2m   2104 non-null   float64\n",
            " 2   return_3m   2104 non-null   float64\n",
            " 3   return_6m   2104 non-null   float64\n",
            " 4   return_9m   2104 non-null   float64\n",
            " 5   return_12m  2104 non-null   float64\n",
            "dtypes: float64(6)\n",
            "memory usage: 106.8+ KB\n"
          ]
        }
      ]
    },
    {
      "cell_type": "code",
      "source": [
        "data.describe()"
      ],
      "metadata": {
        "id": "EqD6klHIy2iN",
        "colab": {
          "base_uri": "https://localhost:8080/",
          "height": 300
        },
        "outputId": "916e972f-650a-4286-8c1e-49700faa6917"
      },
      "execution_count": 10,
      "outputs": [
        {
          "output_type": "execute_result",
          "data": {
            "text/plain": [
              "         return_1m    return_2m    return_3m    return_6m    return_9m  \\\n",
              "count  2104.000000  2104.000000  2104.000000  2104.000000  2104.000000   \n",
              "mean      0.012063     0.009821     0.008538     0.009044     0.009162   \n",
              "std       0.118656     0.089063     0.073194     0.049609     0.043009   \n",
              "min      -0.333767    -0.246274    -0.197658    -0.133659    -0.115391   \n",
              "25%      -0.060006    -0.042092    -0.033427    -0.020473    -0.015068   \n",
              "50%       0.008844     0.011302     0.010019     0.009820     0.007997   \n",
              "75%       0.084494     0.063157     0.052875     0.039463     0.035517   \n",
              "max       0.378919     0.255013     0.198319     0.139673     0.120911   \n",
              "\n",
              "        return_12m  \n",
              "count  2104.000000  \n",
              "mean      0.009074  \n",
              "std       0.037007  \n",
              "min      -0.099777  \n",
              "25%      -0.013482  \n",
              "50%       0.009642  \n",
              "75%       0.031347  \n",
              "max       0.101874  "
            ],
            "text/html": [
              "\n",
              "  <div id=\"df-39be8ad8-8c98-453e-8cf1-f1cf21e692c9\">\n",
              "    <div class=\"colab-df-container\">\n",
              "      <div>\n",
              "<style scoped>\n",
              "    .dataframe tbody tr th:only-of-type {\n",
              "        vertical-align: middle;\n",
              "    }\n",
              "\n",
              "    .dataframe tbody tr th {\n",
              "        vertical-align: top;\n",
              "    }\n",
              "\n",
              "    .dataframe thead th {\n",
              "        text-align: right;\n",
              "    }\n",
              "</style>\n",
              "<table border=\"1\" class=\"dataframe\">\n",
              "  <thead>\n",
              "    <tr style=\"text-align: right;\">\n",
              "      <th></th>\n",
              "      <th>return_1m</th>\n",
              "      <th>return_2m</th>\n",
              "      <th>return_3m</th>\n",
              "      <th>return_6m</th>\n",
              "      <th>return_9m</th>\n",
              "      <th>return_12m</th>\n",
              "    </tr>\n",
              "  </thead>\n",
              "  <tbody>\n",
              "    <tr>\n",
              "      <th>count</th>\n",
              "      <td>2104.000000</td>\n",
              "      <td>2104.000000</td>\n",
              "      <td>2104.000000</td>\n",
              "      <td>2104.000000</td>\n",
              "      <td>2104.000000</td>\n",
              "      <td>2104.000000</td>\n",
              "    </tr>\n",
              "    <tr>\n",
              "      <th>mean</th>\n",
              "      <td>0.012063</td>\n",
              "      <td>0.009821</td>\n",
              "      <td>0.008538</td>\n",
              "      <td>0.009044</td>\n",
              "      <td>0.009162</td>\n",
              "      <td>0.009074</td>\n",
              "    </tr>\n",
              "    <tr>\n",
              "      <th>std</th>\n",
              "      <td>0.118656</td>\n",
              "      <td>0.089063</td>\n",
              "      <td>0.073194</td>\n",
              "      <td>0.049609</td>\n",
              "      <td>0.043009</td>\n",
              "      <td>0.037007</td>\n",
              "    </tr>\n",
              "    <tr>\n",
              "      <th>min</th>\n",
              "      <td>-0.333767</td>\n",
              "      <td>-0.246274</td>\n",
              "      <td>-0.197658</td>\n",
              "      <td>-0.133659</td>\n",
              "      <td>-0.115391</td>\n",
              "      <td>-0.099777</td>\n",
              "    </tr>\n",
              "    <tr>\n",
              "      <th>25%</th>\n",
              "      <td>-0.060006</td>\n",
              "      <td>-0.042092</td>\n",
              "      <td>-0.033427</td>\n",
              "      <td>-0.020473</td>\n",
              "      <td>-0.015068</td>\n",
              "      <td>-0.013482</td>\n",
              "    </tr>\n",
              "    <tr>\n",
              "      <th>50%</th>\n",
              "      <td>0.008844</td>\n",
              "      <td>0.011302</td>\n",
              "      <td>0.010019</td>\n",
              "      <td>0.009820</td>\n",
              "      <td>0.007997</td>\n",
              "      <td>0.009642</td>\n",
              "    </tr>\n",
              "    <tr>\n",
              "      <th>75%</th>\n",
              "      <td>0.084494</td>\n",
              "      <td>0.063157</td>\n",
              "      <td>0.052875</td>\n",
              "      <td>0.039463</td>\n",
              "      <td>0.035517</td>\n",
              "      <td>0.031347</td>\n",
              "    </tr>\n",
              "    <tr>\n",
              "      <th>max</th>\n",
              "      <td>0.378919</td>\n",
              "      <td>0.255013</td>\n",
              "      <td>0.198319</td>\n",
              "      <td>0.139673</td>\n",
              "      <td>0.120911</td>\n",
              "      <td>0.101874</td>\n",
              "    </tr>\n",
              "  </tbody>\n",
              "</table>\n",
              "</div>\n",
              "      <button class=\"colab-df-convert\" onclick=\"convertToInteractive('df-39be8ad8-8c98-453e-8cf1-f1cf21e692c9')\"\n",
              "              title=\"Convert this dataframe to an interactive table.\"\n",
              "              style=\"display:none;\">\n",
              "        \n",
              "  <svg xmlns=\"http://www.w3.org/2000/svg\" height=\"24px\"viewBox=\"0 0 24 24\"\n",
              "       width=\"24px\">\n",
              "    <path d=\"M0 0h24v24H0V0z\" fill=\"none\"/>\n",
              "    <path d=\"M18.56 5.44l.94 2.06.94-2.06 2.06-.94-2.06-.94-.94-2.06-.94 2.06-2.06.94zm-11 1L8.5 8.5l.94-2.06 2.06-.94-2.06-.94L8.5 2.5l-.94 2.06-2.06.94zm10 10l.94 2.06.94-2.06 2.06-.94-2.06-.94-.94-2.06-.94 2.06-2.06.94z\"/><path d=\"M17.41 7.96l-1.37-1.37c-.4-.4-.92-.59-1.43-.59-.52 0-1.04.2-1.43.59L10.3 9.45l-7.72 7.72c-.78.78-.78 2.05 0 2.83L4 21.41c.39.39.9.59 1.41.59.51 0 1.02-.2 1.41-.59l7.78-7.78 2.81-2.81c.8-.78.8-2.07 0-2.86zM5.41 20L4 18.59l7.72-7.72 1.47 1.35L5.41 20z\"/>\n",
              "  </svg>\n",
              "      </button>\n",
              "      \n",
              "  <style>\n",
              "    .colab-df-container {\n",
              "      display:flex;\n",
              "      flex-wrap:wrap;\n",
              "      gap: 12px;\n",
              "    }\n",
              "\n",
              "    .colab-df-convert {\n",
              "      background-color: #E8F0FE;\n",
              "      border: none;\n",
              "      border-radius: 50%;\n",
              "      cursor: pointer;\n",
              "      display: none;\n",
              "      fill: #1967D2;\n",
              "      height: 32px;\n",
              "      padding: 0 0 0 0;\n",
              "      width: 32px;\n",
              "    }\n",
              "\n",
              "    .colab-df-convert:hover {\n",
              "      background-color: #E2EBFA;\n",
              "      box-shadow: 0px 1px 2px rgba(60, 64, 67, 0.3), 0px 1px 3px 1px rgba(60, 64, 67, 0.15);\n",
              "      fill: #174EA6;\n",
              "    }\n",
              "\n",
              "    [theme=dark] .colab-df-convert {\n",
              "      background-color: #3B4455;\n",
              "      fill: #D2E3FC;\n",
              "    }\n",
              "\n",
              "    [theme=dark] .colab-df-convert:hover {\n",
              "      background-color: #434B5C;\n",
              "      box-shadow: 0px 1px 3px 1px rgba(0, 0, 0, 0.15);\n",
              "      filter: drop-shadow(0px 1px 2px rgba(0, 0, 0, 0.3));\n",
              "      fill: #FFFFFF;\n",
              "    }\n",
              "  </style>\n",
              "\n",
              "      <script>\n",
              "        const buttonEl =\n",
              "          document.querySelector('#df-39be8ad8-8c98-453e-8cf1-f1cf21e692c9 button.colab-df-convert');\n",
              "        buttonEl.style.display =\n",
              "          google.colab.kernel.accessAllowed ? 'block' : 'none';\n",
              "\n",
              "        async function convertToInteractive(key) {\n",
              "          const element = document.querySelector('#df-39be8ad8-8c98-453e-8cf1-f1cf21e692c9');\n",
              "          const dataTable =\n",
              "            await google.colab.kernel.invokeFunction('convertToInteractive',\n",
              "                                                     [key], {});\n",
              "          if (!dataTable) return;\n",
              "\n",
              "          const docLinkHtml = 'Like what you see? Visit the ' +\n",
              "            '<a target=\"_blank\" href=https://colab.research.google.com/notebooks/data_table.ipynb>data table notebook</a>'\n",
              "            + ' to learn more about interactive tables.';\n",
              "          element.innerHTML = '';\n",
              "          dataTable['output_type'] = 'display_data';\n",
              "          await google.colab.output.renderOutput(dataTable, element);\n",
              "          const docLink = document.createElement('div');\n",
              "          docLink.innerHTML = docLinkHtml;\n",
              "          element.appendChild(docLink);\n",
              "        }\n",
              "      </script>\n",
              "    </div>\n",
              "  </div>\n",
              "  "
            ]
          },
          "metadata": {},
          "execution_count": 10
        }
      ]
    },
    {
      "cell_type": "code",
      "source": [
        "sns.clustermap(data.corr('spearman'), annot=True, center=0, cmap='Blues');"
      ],
      "metadata": {
        "colab": {
          "base_uri": "https://localhost:8080/",
          "height": 730
        },
        "id": "CCrE6CgXp915",
        "outputId": "20f0ad8c-2cb9-4f5d-f7e6-e7291eed297b"
      },
      "execution_count": 11,
      "outputs": [
        {
          "output_type": "display_data",
          "data": {
            "text/plain": [
              "<Figure size 720x720 with 4 Axes>"
            ],
            "image/png": "[encoded data removed]"
          },
          "metadata": {}
        }
      ]
    },
    {
      "cell_type": "code",
      "source": [
        "data.corr('spearman')\n"
      ],
      "metadata": {
        "colab": {
          "base_uri": "https://localhost:8080/",
          "height": 237
        },
        "id": "H4nbqzUBq3wZ",
        "outputId": "37951440-12bd-40bf-f4a4-253d90336748"
      },
      "execution_count": 12,
      "outputs": [
        {
          "output_type": "execute_result",
          "data": {
            "text/plain": [
              "            return_1m  return_2m  return_3m  return_6m  return_9m  return_12m\n",
              "return_1m    1.000000   0.667203   0.507936   0.329447   0.311264    0.292833\n",
              "return_2m    0.667203   1.000000   0.789473   0.475646   0.473773    0.396550\n",
              "return_3m    0.507936   0.789473   1.000000   0.598397   0.584661    0.472342\n",
              "return_6m    0.329447   0.475646   0.598397   1.000000   0.792652    0.715923\n",
              "return_9m    0.311264   0.473773   0.584661   0.792652   1.000000    0.840800\n",
              "return_12m   0.292833   0.396550   0.472342   0.715923   0.840800    1.000000"
            ],
            "text/html": [
              "\n",
              "  <div id=\"df-0923d8a0-30b3-45f0-a018-55160d2a901e\">\n",
              "    <div class=\"colab-df-container\">\n",
              "      <div>\n",
              "<style scoped>\n",
              "    .dataframe tbody tr th:only-of-type {\n",
              "        vertical-align: middle;\n",
              "    }\n",
              "\n",
              "    .dataframe tbody tr th {\n",
              "        vertical-align: top;\n",
              "    }\n",
              "\n",
              "    .dataframe thead th {\n",
              "        text-align: right;\n",
              "    }\n",
              "</style>\n",
              "<table border=\"1\" class=\"dataframe\">\n",
              "  <thead>\n",
              "    <tr style=\"text-align: right;\">\n",
              "      <th></th>\n",
              "      <th>return_1m</th>\n",
              "      <th>return_2m</th>\n",
              "      <th>return_3m</th>\n",
              "      <th>return_6m</th>\n",
              "      <th>return_9m</th>\n",
              "      <th>return_12m</th>\n",
              "    </tr>\n",
              "  </thead>\n",
              "  <tbody>\n",
              "    <tr>\n",
              "      <th>return_1m</th>\n",
              "      <td>1.000000</td>\n",
              "      <td>0.667203</td>\n",
              "      <td>0.507936</td>\n",
              "      <td>0.329447</td>\n",
              "      <td>0.311264</td>\n",
              "      <td>0.292833</td>\n",
              "    </tr>\n",
              "    <tr>\n",
              "      <th>return_2m</th>\n",
              "      <td>0.667203</td>\n",
              "      <td>1.000000</td>\n",
              "      <td>0.789473</td>\n",
              "      <td>0.475646</td>\n",
              "      <td>0.473773</td>\n",
              "      <td>0.396550</td>\n",
              "    </tr>\n",
              "    <tr>\n",
              "      <th>return_3m</th>\n",
              "      <td>0.507936</td>\n",
              "      <td>0.789473</td>\n",
              "      <td>1.000000</td>\n",
              "      <td>0.598397</td>\n",
              "      <td>0.584661</td>\n",
              "      <td>0.472342</td>\n",
              "    </tr>\n",
              "    <tr>\n",
              "      <th>return_6m</th>\n",
              "      <td>0.329447</td>\n",
              "      <td>0.475646</td>\n",
              "      <td>0.598397</td>\n",
              "      <td>1.000000</td>\n",
              "      <td>0.792652</td>\n",
              "      <td>0.715923</td>\n",
              "    </tr>\n",
              "    <tr>\n",
              "      <th>return_9m</th>\n",
              "      <td>0.311264</td>\n",
              "      <td>0.473773</td>\n",
              "      <td>0.584661</td>\n",
              "      <td>0.792652</td>\n",
              "      <td>1.000000</td>\n",
              "      <td>0.840800</td>\n",
              "    </tr>\n",
              "    <tr>\n",
              "      <th>return_12m</th>\n",
              "      <td>0.292833</td>\n",
              "      <td>0.396550</td>\n",
              "      <td>0.472342</td>\n",
              "      <td>0.715923</td>\n",
              "      <td>0.840800</td>\n",
              "      <td>1.000000</td>\n",
              "    </tr>\n",
              "  </tbody>\n",
              "</table>\n",
              "</div>\n",
              "      <button class=\"colab-df-convert\" onclick=\"convertToInteractive('df-0923d8a0-30b3-45f0-a018-55160d2a901e')\"\n",
              "              title=\"Convert this dataframe to an interactive table.\"\n",
              "              style=\"display:none;\">\n",
              "        \n",
              "  <svg xmlns=\"http://www.w3.org/2000/svg\" height=\"24px\"viewBox=\"0 0 24 24\"\n",
              "       width=\"24px\">\n",
              "    <path d=\"M0 0h24v24H0V0z\" fill=\"none\"/>\n",
              "    <path d=\"M18.56 5.44l.94 2.06.94-2.06 2.06-.94-2.06-.94-.94-2.06-.94 2.06-2.06.94zm-11 1L8.5 8.5l.94-2.06 2.06-.94-2.06-.94L8.5 2.5l-.94 2.06-2.06.94zm10 10l.94 2.06.94-2.06 2.06-.94-2.06-.94-.94-2.06-.94 2.06-2.06.94z\"/><path d=\"M17.41 7.96l-1.37-1.37c-.4-.4-.92-.59-1.43-.59-.52 0-1.04.2-1.43.59L10.3 9.45l-7.72 7.72c-.78.78-.78 2.05 0 2.83L4 21.41c.39.39.9.59 1.41.59.51 0 1.02-.2 1.41-.59l7.78-7.78 2.81-2.81c.8-.78.8-2.07 0-2.86zM5.41 20L4 18.59l7.72-7.72 1.47 1.35L5.41 20z\"/>\n",
              "  </svg>\n",
              "      </button>\n",
              "      \n",
              "  <style>\n",
              "    .colab-df-container {\n",
              "      display:flex;\n",
              "      flex-wrap:wrap;\n",
              "      gap: 12px;\n",
              "    }\n",
              "\n",
              "    .colab-df-convert {\n",
              "      background-color: #E8F0FE;\n",
              "      border: none;\n",
              "      border-radius: 50%;\n",
              "      cursor: pointer;\n",
              "      display: none;\n",
              "      fill: #1967D2;\n",
              "      height: 32px;\n",
              "      padding: 0 0 0 0;\n",
              "      width: 32px;\n",
              "    }\n",
              "\n",
              "    .colab-df-convert:hover {\n",
              "      background-color: #E2EBFA;\n",
              "      box-shadow: 0px 1px 2px rgba(60, 64, 67, 0.3), 0px 1px 3px 1px rgba(60, 64, 67, 0.15);\n",
              "      fill: #174EA6;\n",
              "    }\n",
              "\n",
              "    [theme=dark] .colab-df-convert {\n",
              "      background-color: #3B4455;\n",
              "      fill: #D2E3FC;\n",
              "    }\n",
              "\n",
              "    [theme=dark] .colab-df-convert:hover {\n",
              "      background-color: #434B5C;\n",
              "      box-shadow: 0px 1px 3px 1px rgba(0, 0, 0, 0.15);\n",
              "      filter: drop-shadow(0px 1px 2px rgba(0, 0, 0, 0.3));\n",
              "      fill: #FFFFFF;\n",
              "    }\n",
              "  </style>\n",
              "\n",
              "      <script>\n",
              "        const buttonEl =\n",
              "          document.querySelector('#df-0923d8a0-30b3-45f0-a018-55160d2a901e button.colab-df-convert');\n",
              "        buttonEl.style.display =\n",
              "          google.colab.kernel.accessAllowed ? 'block' : 'none';\n",
              "\n",
              "        async function convertToInteractive(key) {\n",
              "          const element = document.querySelector('#df-0923d8a0-30b3-45f0-a018-55160d2a901e');\n",
              "          const dataTable =\n",
              "            await google.colab.kernel.invokeFunction('convertToInteractive',\n",
              "                                                     [key], {});\n",
              "          if (!dataTable) return;\n",
              "\n",
              "          const docLinkHtml = 'Like what you see? Visit the ' +\n",
              "            '<a target=\"_blank\" href=https://colab.research.google.com/notebooks/data_table.ipynb>data table notebook</a>'\n",
              "            + ' to learn more about interactive tables.';\n",
              "          element.innerHTML = '';\n",
              "          dataTable['output_type'] = 'display_data';\n",
              "          await google.colab.output.renderOutput(dataTable, element);\n",
              "          const docLink = document.createElement('div');\n",
              "          docLink.innerHTML = docLinkHtml;\n",
              "          element.appendChild(docLink);\n",
              "        }\n",
              "      </script>\n",
              "    </div>\n",
              "  </div>\n",
              "  "
            ]
          },
          "metadata": {},
          "execution_count": 12
        }
      ]
    },
    {
      "cell_type": "markdown",
      "source": [
        "Correlações positivas indicam momentum forte. Quem ganha em um prazo menor continua ganhando em prazos maiores."
      ],
      "metadata": {
        "id": "G3FD2uSssULR"
      }
    },
    {
      "cell_type": "code",
      "source": [
        "data.index.get_level_values('Ticker').nunique()"
      ],
      "metadata": {
        "colab": {
          "base_uri": "https://localhost:8080/"
        },
        "id": "MG4OHMPvsEta",
        "outputId": "66586e7f-03df-404d-c146-da78cd036fba"
      },
      "execution_count": 13,
      "outputs": [
        {
          "output_type": "execute_result",
          "data": {
            "text/plain": [
              "43"
            ]
          },
          "metadata": {},
          "execution_count": 13
        }
      ]
    },
    {
      "cell_type": "markdown",
      "source": [
        "# Rolling Factor Betas"
      ],
      "metadata": {
        "id": "jkGZbVTJ5Coe"
      }
    },
    {
      "cell_type": "markdown",
      "source": [
        "The 5 Fama-french factors are:\n",
        "* Market risk\n",
        "* Size (SMB = small minus big)\n",
        "* Value (HML)\n",
        "* Operationg profitability (RMW)\n",
        "* Investment (CMA)\n",
        "\n",
        "We can:\n",
        "* access the historical factor returns using the pandas-datareader;\n",
        "* estimate historical exposures using the RollingOLS rolling linear regression functionality in the statsmodels library."
      ],
      "metadata": {
        "id": "E3j1a3w25cOc"
      }
    },
    {
      "cell_type": "code",
      "source": [
        "factors = ['Mkt-RF', 'SMB', 'HML', 'RMW', 'CMA']\n",
        "factor_data = web.DataReader('F-F_Research_Data_5_Factors_2x3', 'famafrench', start='2019')[0].drop('RF', axis=1)\n",
        "factor_data.index = factor_data.index.to_timestamp()\n",
        "factor_data = factor_data.resample('M').last().div(100)\n",
        "factor_data.index.name = 'Date'\n",
        "factor_data.info()"
      ],
      "metadata": {
        "colab": {
          "base_uri": "https://localhost:8080/"
        },
        "id": "-qtM6unes0y4",
        "outputId": "3e6a69cd-9580-4790-d957-3a12cdd70f77"
      },
      "execution_count": 14,
      "outputs": [
        {
          "output_type": "stream",
          "name": "stdout",
          "text": [
            "<class 'pandas.core.frame.DataFrame'>\n",
            "DatetimeIndex: 48 entries, 2019-01-31 to 2022-12-31\n",
            "Freq: M\n",
            "Data columns (total 5 columns):\n",
            " #   Column  Non-Null Count  Dtype  \n",
            "---  ------  --------------  -----  \n",
            " 0   Mkt-RF  48 non-null     float64\n",
            " 1   SMB     48 non-null     float64\n",
            " 2   HML     48 non-null     float64\n",
            " 3   RMW     48 non-null     float64\n",
            " 4   CMA     48 non-null     float64\n",
            "dtypes: float64(5)\n",
            "memory usage: 2.2 KB\n"
          ]
        }
      ]
    },
    {
      "cell_type": "code",
      "source": [
        "factor_data = factor_data.join(data['return_1m']).sort_index()\n",
        "factor_data.info()"
      ],
      "metadata": {
        "colab": {
          "base_uri": "https://localhost:8080/"
        },
        "id": "NXdxBDYt6Gdd",
        "outputId": "4d352583-ff4e-4464-9116-e77b23ccbe1f"
      },
      "execution_count": 16,
      "outputs": [
        {
          "output_type": "stream",
          "name": "stdout",
          "text": [
            "<class 'pandas.core.frame.DataFrame'>\n",
            "MultiIndex: 2018 entries, ('ABEV3.SA', Timestamp('2019-02-28 00:00:00', freq='M')) to ('WEGE3.SA', Timestamp('2022-12-31 00:00:00', freq='M'))\n",
            "Data columns (total 6 columns):\n",
            " #   Column     Non-Null Count  Dtype  \n",
            "---  ------     --------------  -----  \n",
            " 0   Mkt-RF     2018 non-null   float64\n",
            " 1   SMB        2018 non-null   float64\n",
            " 2   HML        2018 non-null   float64\n",
            " 3   RMW        2018 non-null   float64\n",
            " 4   CMA        2018 non-null   float64\n",
            " 5   return_1m  2018 non-null   float64\n",
            "dtypes: float64(6)\n",
            "memory usage: 101.5+ KB\n"
          ]
        }
      ]
    },
    {
      "cell_type": "code",
      "source": [
        "T = 24\n",
        "betas = (factor_data.groupby(level='Ticker',\n",
        "                             group_keys=False)\n",
        "         .apply(lambda x: RollingOLS(endog=x.return_1m,\n",
        "                                     exog=sm.add_constant(x.drop('return_1m', axis=1)),\n",
        "                                     window=min(T, x.shape[0]-1))\n",
        "                .fit(params_only=True)\n",
        "                .params\n",
        "                .drop('const', axis=1)))"
      ],
      "metadata": {
        "id": "mgxPJceo7CBJ"
      },
      "execution_count": 17,
      "outputs": []
    },
    {
      "cell_type": "code",
      "source": [
        "betas.describe().join(betas.sum(1).describe().to_frame('total'))"
      ],
      "metadata": {
        "colab": {
          "base_uri": "https://localhost:8080/",
          "height": 300
        },
        "id": "5lI7FZbRF_7_",
        "outputId": "7d5741db-4608-4cdc-fa26-a2475bde4e36"
      },
      "execution_count": 18,
      "outputs": [
        {
          "output_type": "execute_result",
          "data": {
            "text/plain": [
              "            Mkt-RF          SMB          HML          RMW          CMA  \\\n",
              "count  1029.000000  1029.000000  1029.000000  1029.000000  1029.000000   \n",
              "mean      1.029142    -0.060955     0.299210    -0.328785     0.356428   \n",
              "std       0.509792     0.858769     0.595404     1.131895     1.160581   \n",
              "min      -0.200157    -2.447821    -1.878011    -5.083085    -3.452196   \n",
              "25%       0.714488    -0.620885    -0.112092    -0.992246    -0.336734   \n",
              "50%       0.959251    -0.039148     0.313792    -0.210987     0.418415   \n",
              "75%       1.224837     0.490725     0.728737     0.378762     1.122414   \n",
              "max       3.129914     3.355225     2.042647     3.644935     4.115289   \n",
              "\n",
              "             total  \n",
              "count  2018.000000  \n",
              "mean      0.660355  \n",
              "std       1.500011  \n",
              "min      -4.630765  \n",
              "25%       0.000000  \n",
              "50%       0.000000  \n",
              "75%       1.327687  \n",
              "max       6.091097  "
            ],
            "text/html": [
              "\n",
              "  <div id=\"df-e68dff0b-410f-468f-8bee-9abb51ee13f5\">\n",
              "    <div class=\"colab-df-container\">\n",
              "      <div>\n",
              "<style scoped>\n",
              "    .dataframe tbody tr th:only-of-type {\n",
              "        vertical-align: middle;\n",
              "    }\n",
              "\n",
              "    .dataframe tbody tr th {\n",
              "        vertical-align: top;\n",
              "    }\n",
              "\n",
              "    .dataframe thead th {\n",
              "        text-align: right;\n",
              "    }\n",
              "</style>\n",
              "<table border=\"1\" class=\"dataframe\">\n",
              "  <thead>\n",
              "    <tr style=\"text-align: right;\">\n",
              "      <th></th>\n",
              "      <th>Mkt-RF</th>\n",
              "      <th>SMB</th>\n",
              "      <th>HML</th>\n",
              "      <th>RMW</th>\n",
              "      <th>CMA</th>\n",
              "      <th>total</th>\n",
              "    </tr>\n",
              "  </thead>\n",
              "  <tbody>\n",
              "    <tr>\n",
              "      <th>count</th>\n",
              "      <td>1029.000000</td>\n",
              "      <td>1029.000000</td>\n",
              "      <td>1029.000000</td>\n",
              "      <td>1029.000000</td>\n",
              "      <td>1029.000000</td>\n",
              "      <td>2018.000000</td>\n",
              "    </tr>\n",
              "    <tr>\n",
              "      <th>mean</th>\n",
              "      <td>1.029142</td>\n",
              "      <td>-0.060955</td>\n",
              "      <td>0.299210</td>\n",
              "      <td>-0.328785</td>\n",
              "      <td>0.356428</td>\n",
              "      <td>0.660355</td>\n",
              "    </tr>\n",
              "    <tr>\n",
              "      <th>std</th>\n",
              "      <td>0.509792</td>\n",
              "      <td>0.858769</td>\n",
              "      <td>0.595404</td>\n",
              "      <td>1.131895</td>\n",
              "      <td>1.160581</td>\n",
              "      <td>1.500011</td>\n",
              "    </tr>\n",
              "    <tr>\n",
              "      <th>min</th>\n",
              "      <td>-0.200157</td>\n",
              "      <td>-2.447821</td>\n",
              "      <td>-1.878011</td>\n",
              "      <td>-5.083085</td>\n",
              "      <td>-3.452196</td>\n",
              "      <td>-4.630765</td>\n",
              "    </tr>\n",
              "    <tr>\n",
              "      <th>25%</th>\n",
              "      <td>0.714488</td>\n",
              "      <td>-0.620885</td>\n",
              "      <td>-0.112092</td>\n",
              "      <td>-0.992246</td>\n",
              "      <td>-0.336734</td>\n",
              "      <td>0.000000</td>\n",
              "    </tr>\n",
              "    <tr>\n",
              "      <th>50%</th>\n",
              "      <td>0.959251</td>\n",
              "      <td>-0.039148</td>\n",
              "      <td>0.313792</td>\n",
              "      <td>-0.210987</td>\n",
              "      <td>0.418415</td>\n",
              "      <td>0.000000</td>\n",
              "    </tr>\n",
              "    <tr>\n",
              "      <th>75%</th>\n",
              "      <td>1.224837</td>\n",
              "      <td>0.490725</td>\n",
              "      <td>0.728737</td>\n",
              "      <td>0.378762</td>\n",
              "      <td>1.122414</td>\n",
              "      <td>1.327687</td>\n",
              "    </tr>\n",
              "    <tr>\n",
              "      <th>max</th>\n",
              "      <td>3.129914</td>\n",
              "      <td>3.355225</td>\n",
              "      <td>2.042647</td>\n",
              "      <td>3.644935</td>\n",
              "      <td>4.115289</td>\n",
              "      <td>6.091097</td>\n",
              "    </tr>\n",
              "  </tbody>\n",
              "</table>\n",
              "</div>\n",
              "      <button class=\"colab-df-convert\" onclick=\"convertToInteractive('df-e68dff0b-410f-468f-8bee-9abb51ee13f5')\"\n",
              "              title=\"Convert this dataframe to an interactive table.\"\n",
              "              style=\"display:none;\">\n",
              "        \n",
              "  <svg xmlns=\"http://www.w3.org/2000/svg\" height=\"24px\"viewBox=\"0 0 24 24\"\n",
              "       width=\"24px\">\n",
              "    <path d=\"M0 0h24v24H0V0z\" fill=\"none\"/>\n",
              "    <path d=\"M18.56 5.44l.94 2.06.94-2.06 2.06-.94-2.06-.94-.94-2.06-.94 2.06-2.06.94zm-11 1L8.5 8.5l.94-2.06 2.06-.94-2.06-.94L8.5 2.5l-.94 2.06-2.06.94zm10 10l.94 2.06.94-2.06 2.06-.94-2.06-.94-.94-2.06-.94 2.06-2.06.94z\"/><path d=\"M17.41 7.96l-1.37-1.37c-.4-.4-.92-.59-1.43-.59-.52 0-1.04.2-1.43.59L10.3 9.45l-7.72 7.72c-.78.78-.78 2.05 0 2.83L4 21.41c.39.39.9.59 1.41.59.51 0 1.02-.2 1.41-.59l7.78-7.78 2.81-2.81c.8-.78.8-2.07 0-2.86zM5.41 20L4 18.59l7.72-7.72 1.47 1.35L5.41 20z\"/>\n",
              "  </svg>\n",
              "      </button>\n",
              "      \n",
              "  <style>\n",
              "    .colab-df-container {\n",
              "      display:flex;\n",
              "      flex-wrap:wrap;\n",
              "      gap: 12px;\n",
              "    }\n",
              "\n",
              "    .colab-df-convert {\n",
              "      background-color: #E8F0FE;\n",
              "      border: none;\n",
              "      border-radius: 50%;\n",
              "      cursor: pointer;\n",
              "      display: none;\n",
              "      fill: #1967D2;\n",
              "      height: 32px;\n",
              "      padding: 0 0 0 0;\n",
              "      width: 32px;\n",
              "    }\n",
              "\n",
              "    .colab-df-convert:hover {\n",
              "      background-color: #E2EBFA;\n",
              "      box-shadow: 0px 1px 2px rgba(60, 64, 67, 0.3), 0px 1px 3px 1px rgba(60, 64, 67, 0.15);\n",
              "      fill: #174EA6;\n",
              "    }\n",
              "\n",
              "    [theme=dark] .colab-df-convert {\n",
              "      background-color: #3B4455;\n",
              "      fill: #D2E3FC;\n",
              "    }\n",
              "\n",
              "    [theme=dark] .colab-df-convert:hover {\n",
              "      background-color: #434B5C;\n",
              "      box-shadow: 0px 1px 3px 1px rgba(0, 0, 0, 0.15);\n",
              "      filter: drop-shadow(0px 1px 2px rgba(0, 0, 0, 0.3));\n",
              "      fill: #FFFFFF;\n",
              "    }\n",
              "  </style>\n",
              "\n",
              "      <script>\n",
              "        const buttonEl =\n",
              "          document.querySelector('#df-e68dff0b-410f-468f-8bee-9abb51ee13f5 button.colab-df-convert');\n",
              "        buttonEl.style.display =\n",
              "          google.colab.kernel.accessAllowed ? 'block' : 'none';\n",
              "\n",
              "        async function convertToInteractive(key) {\n",
              "          const element = document.querySelector('#df-e68dff0b-410f-468f-8bee-9abb51ee13f5');\n",
              "          const dataTable =\n",
              "            await google.colab.kernel.invokeFunction('convertToInteractive',\n",
              "                                                     [key], {});\n",
              "          if (!dataTable) return;\n",
              "\n",
              "          const docLinkHtml = 'Like what you see? Visit the ' +\n",
              "            '<a target=\"_blank\" href=https://colab.research.google.com/notebooks/data_table.ipynb>data table notebook</a>'\n",
              "            + ' to learn more about interactive tables.';\n",
              "          element.innerHTML = '';\n",
              "          dataTable['output_type'] = 'display_data';\n",
              "          await google.colab.output.renderOutput(dataTable, element);\n",
              "          const docLink = document.createElement('div');\n",
              "          docLink.innerHTML = docLinkHtml;\n",
              "          element.appendChild(docLink);\n",
              "        }\n",
              "      </script>\n",
              "    </div>\n",
              "  </div>\n",
              "  "
            ]
          },
          "metadata": {},
          "execution_count": 18
        }
      ]
    },
    {
      "cell_type": "code",
      "source": [
        "cmap = sns.diverging_palette(10, 220, as_cmap=True)\n",
        "sns.clustermap(betas.corr(), annot=True, cmap=cmap, center=0);"
      ],
      "metadata": {
        "colab": {
          "base_uri": "https://localhost:8080/",
          "height": 730
        },
        "id": "UgeOwaZvGCLX",
        "outputId": "acc0256c-4fea-4b76-9406-28c45f9ff486"
      },
      "execution_count": 19,
      "outputs": [
        {
          "output_type": "display_data",
          "data": {
            "text/plain": [
              "<Figure size 720x720 with 4 Axes>"
            ],
            "image/png": "[encoded data removed]"
          },
          "metadata": {}
        }
      ]
    },
    {
      "cell_type": "code",
      "source": [
        "data = (data\n",
        "        .join(betas\n",
        "              .groupby(level='Ticker')\n",
        "              .shift()))\n",
        "data.info()"
      ],
      "metadata": {
        "colab": {
          "base_uri": "https://localhost:8080/"
        },
        "id": "REjjxnfOIGdv",
        "outputId": "6ddaf701-3573-49d8-d779-124611fb1c4f"
      },
      "execution_count": 20,
      "outputs": [
        {
          "output_type": "stream",
          "name": "stdout",
          "text": [
            "<class 'pandas.core.frame.DataFrame'>\n",
            "MultiIndex: 2104 entries, ('ABEV3.SA', Timestamp('2019-02-28 00:00:00', freq='M')) to ('WEGE3.SA', Timestamp('2023-02-28 00:00:00', freq='M'))\n",
            "Data columns (total 11 columns):\n",
            " #   Column      Non-Null Count  Dtype  \n",
            "---  ------      --------------  -----  \n",
            " 0   return_1m   2104 non-null   float64\n",
            " 1   return_2m   2104 non-null   float64\n",
            " 2   return_3m   2104 non-null   float64\n",
            " 3   return_6m   2104 non-null   float64\n",
            " 4   return_9m   2104 non-null   float64\n",
            " 5   return_12m  2104 non-null   float64\n",
            " 6   Mkt-RF      986 non-null    float64\n",
            " 7   SMB         986 non-null    float64\n",
            " 8   HML         986 non-null    float64\n",
            " 9   RMW         986 non-null    float64\n",
            " 10  CMA         986 non-null    float64\n",
            "dtypes: float64(11)\n",
            "memory usage: 253.5+ KB\n"
          ]
        }
      ]
    },
    {
      "cell_type": "markdown",
      "source": [
        "## Impute mean for missing factor betas"
      ],
      "metadata": {
        "id": "63WM0dp2Xkcn"
      }
    },
    {
      "cell_type": "code",
      "source": [
        "data.loc[:, factors] = data.groupby('Ticker')[factors].apply(lambda x: x.fillna(x.mean()))\n",
        "data.info()"
      ],
      "metadata": {
        "colab": {
          "base_uri": "https://localhost:8080/"
        },
        "id": "nYIe3Mn_Xdpk",
        "outputId": "0ccd493e-9c64-4476-d30a-d1eb01d321e3"
      },
      "execution_count": 21,
      "outputs": [
        {
          "output_type": "stream",
          "name": "stdout",
          "text": [
            "<class 'pandas.core.frame.DataFrame'>\n",
            "MultiIndex: 2104 entries, ('ABEV3.SA', Timestamp('2019-02-28 00:00:00', freq='M')) to ('WEGE3.SA', Timestamp('2023-02-28 00:00:00', freq='M'))\n",
            "Data columns (total 11 columns):\n",
            " #   Column      Non-Null Count  Dtype  \n",
            "---  ------      --------------  -----  \n",
            " 0   return_1m   2104 non-null   float64\n",
            " 1   return_2m   2104 non-null   float64\n",
            " 2   return_3m   2104 non-null   float64\n",
            " 3   return_6m   2104 non-null   float64\n",
            " 4   return_9m   2104 non-null   float64\n",
            " 5   return_12m  2104 non-null   float64\n",
            " 6   Mkt-RF      2104 non-null   float64\n",
            " 7   SMB         2104 non-null   float64\n",
            " 8   HML         2104 non-null   float64\n",
            " 9   RMW         2104 non-null   float64\n",
            " 10  CMA         2104 non-null   float64\n",
            "dtypes: float64(11)\n",
            "memory usage: 253.5+ KB\n"
          ]
        }
      ]
    },
    {
      "cell_type": "markdown",
      "source": [
        "#Momentum factors"
      ],
      "metadata": {
        "id": "Z1xPXeLdXt0E"
      }
    },
    {
      "cell_type": "code",
      "source": [
        "for lag in [2,3,6,9,12]:\n",
        "    data[f'momentum_{lag}'] = data[f'return_{lag}m'].sub(data.return_1m)\n",
        "data[f'momentum_3_12'] = data[f'return_12m'].sub(data.return_3m)"
      ],
      "metadata": {
        "id": "2wWEOoeFHwhW"
      },
      "execution_count": 23,
      "outputs": []
    },
    {
      "cell_type": "markdown",
      "source": [
        "# Date indicators"
      ],
      "metadata": {
        "id": "8yrdu4BMYQ9l"
      }
    },
    {
      "cell_type": "code",
      "source": [
        "dates = data.index.get_level_values('Date')\n",
        "data['year'] = dates.year\n",
        "data['month'] = dates.month"
      ],
      "metadata": {
        "id": "YpNrj9LLYQh0"
      },
      "execution_count": 25,
      "outputs": []
    },
    {
      "cell_type": "markdown",
      "source": [
        "#Lagged returns"
      ],
      "metadata": {
        "id": "BBSb7UgaYcLM"
      }
    },
    {
      "cell_type": "code",
      "source": [
        "for t in range(1, 7):\n",
        "    data[f'return_1m_t-{t}'] = data.groupby(level='Ticker').return_1m.shift(t)\n",
        "data.info()"
      ],
      "metadata": {
        "colab": {
          "base_uri": "https://localhost:8080/"
        },
        "id": "xS_6nCk-YLQ0",
        "outputId": "f657411b-a0e9-475a-ecf3-bfd646daa1fd"
      },
      "execution_count": 26,
      "outputs": [
        {
          "output_type": "stream",
          "name": "stdout",
          "text": [
            "<class 'pandas.core.frame.DataFrame'>\n",
            "MultiIndex: 2104 entries, ('ABEV3.SA', Timestamp('2019-02-28 00:00:00', freq='M')) to ('WEGE3.SA', Timestamp('2023-02-28 00:00:00', freq='M'))\n",
            "Data columns (total 25 columns):\n",
            " #   Column         Non-Null Count  Dtype  \n",
            "---  ------         --------------  -----  \n",
            " 0   return_1m      2104 non-null   float64\n",
            " 1   return_2m      2104 non-null   float64\n",
            " 2   return_3m      2104 non-null   float64\n",
            " 3   return_6m      2104 non-null   float64\n",
            " 4   return_9m      2104 non-null   float64\n",
            " 5   return_12m     2104 non-null   float64\n",
            " 6   Mkt-RF         2104 non-null   float64\n",
            " 7   SMB            2104 non-null   float64\n",
            " 8   HML            2104 non-null   float64\n",
            " 9   RMW            2104 non-null   float64\n",
            " 10  CMA            2104 non-null   float64\n",
            " 11  momentum_2     2104 non-null   float64\n",
            " 12  momentum_3     2104 non-null   float64\n",
            " 13  momentum_6     2104 non-null   float64\n",
            " 14  momentum_9     2104 non-null   float64\n",
            " 15  momentum_12    2104 non-null   float64\n",
            " 16  momentum_3_12  2104 non-null   float64\n",
            " 17  year           2104 non-null   int64  \n",
            " 18  month          2104 non-null   int64  \n",
            " 19  return_1m_t-1  2061 non-null   float64\n",
            " 20  return_1m_t-2  2018 non-null   float64\n",
            " 21  return_1m_t-3  1975 non-null   float64\n",
            " 22  return_1m_t-4  1932 non-null   float64\n",
            " 23  return_1m_t-5  1889 non-null   float64\n",
            " 24  return_1m_t-6  1846 non-null   float64\n",
            "dtypes: float64(23), int64(2)\n",
            "memory usage: 483.7+ KB\n"
          ]
        }
      ]
    },
    {
      "cell_type": "markdown",
      "source": [
        "# Target: Holding Period Returns"
      ],
      "metadata": {
        "id": "5dKTM_PhYp-8"
      }
    },
    {
      "cell_type": "code",
      "source": [
        "for t in [1,2,3,6,12]:\n",
        "    data[f'target_{t}m'] = data.groupby(level='Ticker')[f'return_{t}m'].shift(-t)"
      ],
      "metadata": {
        "id": "D7wvAvqxYhBH"
      },
      "execution_count": 29,
      "outputs": []
    },
    {
      "cell_type": "code",
      "source": [
        "cols = ['target_1m',\n",
        "        'target_2m',\n",
        "        'target_3m', \n",
        "        'return_1m',\n",
        "        'return_2m',\n",
        "        'return_3m',\n",
        "        'return_1m_t-1',\n",
        "        'return_1m_t-2',\n",
        "        'return_1m_t-3']\n",
        "\n",
        "data[cols].dropna().sort_index().head(10)"
      ],
      "metadata": {
        "colab": {
          "base_uri": "https://localhost:8080/",
          "height": 649
        },
        "id": "wR9YB8-kYzBe",
        "outputId": "4d6dbf53-078e-4f54-cf2b-0d656dd0b5a7"
      },
      "execution_count": 30,
      "outputs": [
        {
          "output_type": "execute_result",
          "data": {
            "text/plain": [
              "                     target_1m  target_2m  target_3m  return_1m  return_2m  \\\n",
              "Ticker   Date                                                                \n",
              "ABEV3.SA 2019-05-31   0.019373   0.070985   0.021746  -0.049811   0.021166   \n",
              "         2019-06-30   0.125210   0.022934   0.024724   0.019373  -0.015826   \n",
              "         2019-07-31  -0.070045  -0.022102  -0.047784   0.125210   0.070985   \n",
              "         2019-08-31   0.028312  -0.036455  -0.012075  -0.070045   0.022934   \n",
              "         2019-09-30  -0.097143  -0.031670  -0.001555   0.028312  -0.022102   \n",
              "         2019-10-31   0.038550   0.049970   0.017691  -0.097143  -0.036455   \n",
              "         2019-11-30   0.061516   0.007419  -0.061469   0.038550  -0.031670   \n",
              "         2019-12-31  -0.043921  -0.117510  -0.138919   0.061516   0.049970   \n",
              "         2020-01-31  -0.185434  -0.182818  -0.140343  -0.043921   0.007419   \n",
              "         2020-02-29  -0.180193  -0.116871  -0.049650  -0.185434  -0.117510   \n",
              "\n",
              "                     return_3m  return_1m_t-1  return_1m_t-2  return_1m_t-3  \n",
              "Ticker   Date                                                                \n",
              "ABEV3.SA 2019-05-31   0.006153       0.097445      -0.023215      -0.015991  \n",
              "         2019-06-30   0.020568      -0.049811       0.097445      -0.023215  \n",
              "         2019-07-31   0.029103       0.019373      -0.049811       0.097445  \n",
              "         2019-08-31   0.021746       0.125210       0.019373      -0.049811  \n",
              "         2019-09-30   0.024724      -0.070045       0.125210       0.019373  \n",
              "         2019-10-31  -0.047784       0.028312      -0.070045       0.125210  \n",
              "         2019-11-30  -0.012075      -0.097143       0.028312      -0.070045  \n",
              "         2019-12-31  -0.001555       0.038550      -0.097143       0.028312  \n",
              "         2020-01-31   0.017691       0.061516       0.038550      -0.097143  \n",
              "         2020-02-29  -0.061469      -0.043921       0.061516       0.038550  "
            ],
            "text/html": [
              "\n",
              "  <div id=\"df-b54b0097-bae6-4fe6-85d5-f79c800e82ec\">\n",
              "    <div class=\"colab-df-container\">\n",
              "      <div>\n",
              "<style scoped>\n",
              "    .dataframe tbody tr th:only-of-type {\n",
              "        vertical-align: middle;\n",
              "    }\n",
              "\n",
              "    .dataframe tbody tr th {\n",
              "        vertical-align: top;\n",
              "    }\n",
              "\n",
              "    .dataframe thead th {\n",
              "        text-align: right;\n",
              "    }\n",
              "</style>\n",
              "<table border=\"1\" class=\"dataframe\">\n",
              "  <thead>\n",
              "    <tr style=\"text-align: right;\">\n",
              "      <th></th>\n",
              "      <th></th>\n",
              "      <th>target_1m</th>\n",
              "      <th>target_2m</th>\n",
              "      <th>target_3m</th>\n",
              "      <th>return_1m</th>\n",
              "      <th>return_2m</th>\n",
              "      <th>return_3m</th>\n",
              "      <th>return_1m_t-1</th>\n",
              "      <th>return_1m_t-2</th>\n",
              "      <th>return_1m_t-3</th>\n",
              "    </tr>\n",
              "    <tr>\n",
              "      <th>Ticker</th>\n",
              "      <th>Date</th>\n",
              "      <th></th>\n",
              "      <th></th>\n",
              "      <th></th>\n",
              "      <th></th>\n",
              "      <th></th>\n",
              "      <th></th>\n",
              "      <th></th>\n",
              "      <th></th>\n",
              "      <th></th>\n",
              "    </tr>\n",
              "  </thead>\n",
              "  <tbody>\n",
              "    <tr>\n",
              "      <th rowspan=\"10\" valign=\"top\">ABEV3.SA</th>\n",
              "      <th>2019-05-31</th>\n",
              "      <td>0.019373</td>\n",
              "      <td>0.070985</td>\n",
              "      <td>0.021746</td>\n",
              "      <td>-0.049811</td>\n",
              "      <td>0.021166</td>\n",
              "      <td>0.006153</td>\n",
              "      <td>0.097445</td>\n",
              "      <td>-0.023215</td>\n",
              "      <td>-0.015991</td>\n",
              "    </tr>\n",
              "    <tr>\n",
              "      <th>2019-06-30</th>\n",
              "      <td>0.125210</td>\n",
              "      <td>0.022934</td>\n",
              "      <td>0.024724</td>\n",
              "      <td>0.019373</td>\n",
              "      <td>-0.015826</td>\n",
              "      <td>0.020568</td>\n",
              "      <td>-0.049811</td>\n",
              "      <td>0.097445</td>\n",
              "      <td>-0.023215</td>\n",
              "    </tr>\n",
              "    <tr>\n",
              "      <th>2019-07-31</th>\n",
              "      <td>-0.070045</td>\n",
              "      <td>-0.022102</td>\n",
              "      <td>-0.047784</td>\n",
              "      <td>0.125210</td>\n",
              "      <td>0.070985</td>\n",
              "      <td>0.029103</td>\n",
              "      <td>0.019373</td>\n",
              "      <td>-0.049811</td>\n",
              "      <td>0.097445</td>\n",
              "    </tr>\n",
              "    <tr>\n",
              "      <th>2019-08-31</th>\n",
              "      <td>0.028312</td>\n",
              "      <td>-0.036455</td>\n",
              "      <td>-0.012075</td>\n",
              "      <td>-0.070045</td>\n",
              "      <td>0.022934</td>\n",
              "      <td>0.021746</td>\n",
              "      <td>0.125210</td>\n",
              "      <td>0.019373</td>\n",
              "      <td>-0.049811</td>\n",
              "    </tr>\n",
              "    <tr>\n",
              "      <th>2019-09-30</th>\n",
              "      <td>-0.097143</td>\n",
              "      <td>-0.031670</td>\n",
              "      <td>-0.001555</td>\n",
              "      <td>0.028312</td>\n",
              "      <td>-0.022102</td>\n",
              "      <td>0.024724</td>\n",
              "      <td>-0.070045</td>\n",
              "      <td>0.125210</td>\n",
              "      <td>0.019373</td>\n",
              "    </tr>\n",
              "    <tr>\n",
              "      <th>2019-10-31</th>\n",
              "      <td>0.038550</td>\n",
              "      <td>0.049970</td>\n",
              "      <td>0.017691</td>\n",
              "      <td>-0.097143</td>\n",
              "      <td>-0.036455</td>\n",
              "      <td>-0.047784</td>\n",
              "      <td>0.028312</td>\n",
              "      <td>-0.070045</td>\n",
              "      <td>0.125210</td>\n",
              "    </tr>\n",
              "    <tr>\n",
              "      <th>2019-11-30</th>\n",
              "      <td>0.061516</td>\n",
              "      <td>0.007419</td>\n",
              "      <td>-0.061469</td>\n",
              "      <td>0.038550</td>\n",
              "      <td>-0.031670</td>\n",
              "      <td>-0.012075</td>\n",
              "      <td>-0.097143</td>\n",
              "      <td>0.028312</td>\n",
              "      <td>-0.070045</td>\n",
              "    </tr>\n",
              "    <tr>\n",
              "      <th>2019-12-31</th>\n",
              "      <td>-0.043921</td>\n",
              "      <td>-0.117510</td>\n",
              "      <td>-0.138919</td>\n",
              "      <td>0.061516</td>\n",
              "      <td>0.049970</td>\n",
              "      <td>-0.001555</td>\n",
              "      <td>0.038550</td>\n",
              "      <td>-0.097143</td>\n",
              "      <td>0.028312</td>\n",
              "    </tr>\n",
              "    <tr>\n",
              "      <th>2020-01-31</th>\n",
              "      <td>-0.185434</td>\n",
              "      <td>-0.182818</td>\n",
              "      <td>-0.140343</td>\n",
              "      <td>-0.043921</td>\n",
              "      <td>0.007419</td>\n",
              "      <td>0.017691</td>\n",
              "      <td>0.061516</td>\n",
              "      <td>0.038550</td>\n",
              "      <td>-0.097143</td>\n",
              "    </tr>\n",
              "    <tr>\n",
              "      <th>2020-02-29</th>\n",
              "      <td>-0.180193</td>\n",
              "      <td>-0.116871</td>\n",
              "      <td>-0.049650</td>\n",
              "      <td>-0.185434</td>\n",
              "      <td>-0.117510</td>\n",
              "      <td>-0.061469</td>\n",
              "      <td>-0.043921</td>\n",
              "      <td>0.061516</td>\n",
              "      <td>0.038550</td>\n",
              "    </tr>\n",
              "  </tbody>\n",
              "</table>\n",
              "</div>\n",
              "      <button class=\"colab-df-convert\" onclick=\"convertToInteractive('df-b54b0097-bae6-4fe6-85d5-f79c800e82ec')\"\n",
              "              title=\"Convert this dataframe to an interactive table.\"\n",
              "              style=\"display:none;\">\n",
              "        \n",
              "  <svg xmlns=\"http://www.w3.org/2000/svg\" height=\"24px\"viewBox=\"0 0 24 24\"\n",
              "       width=\"24px\">\n",
              "    <path d=\"M0 0h24v24H0V0z\" fill=\"none\"/>\n",
              "    <path d=\"M18.56 5.44l.94 2.06.94-2.06 2.06-.94-2.06-.94-.94-2.06-.94 2.06-2.06.94zm-11 1L8.5 8.5l.94-2.06 2.06-.94-2.06-.94L8.5 2.5l-.94 2.06-2.06.94zm10 10l.94 2.06.94-2.06 2.06-.94-2.06-.94-.94-2.06-.94 2.06-2.06.94z\"/><path d=\"M17.41 7.96l-1.37-1.37c-.4-.4-.92-.59-1.43-.59-.52 0-1.04.2-1.43.59L10.3 9.45l-7.72 7.72c-.78.78-.78 2.05 0 2.83L4 21.41c.39.39.9.59 1.41.59.51 0 1.02-.2 1.41-.59l7.78-7.78 2.81-2.81c.8-.78.8-2.07 0-2.86zM5.41 20L4 18.59l7.72-7.72 1.47 1.35L5.41 20z\"/>\n",
              "  </svg>\n",
              "      </button>\n",
              "      \n",
              "  <style>\n",
              "    .colab-df-container {\n",
              "      display:flex;\n",
              "      flex-wrap:wrap;\n",
              "      gap: 12px;\n",
              "    }\n",
              "\n",
              "    .colab-df-convert {\n",
              "      background-color: #E8F0FE;\n",
              "      border: none;\n",
              "      border-radius: 50%;\n",
              "      cursor: pointer;\n",
              "      display: none;\n",
              "      fill: #1967D2;\n",
              "      height: 32px;\n",
              "      padding: 0 0 0 0;\n",
              "      width: 32px;\n",
              "    }\n",
              "\n",
              "    .colab-df-convert:hover {\n",
              "      background-color: #E2EBFA;\n",
              "      box-shadow: 0px 1px 2px rgba(60, 64, 67, 0.3), 0px 1px 3px 1px rgba(60, 64, 67, 0.15);\n",
              "      fill: #174EA6;\n",
              "    }\n",
              "\n",
              "    [theme=dark] .colab-df-convert {\n",
              "      background-color: #3B4455;\n",
              "      fill: #D2E3FC;\n",
              "    }\n",
              "\n",
              "    [theme=dark] .colab-df-convert:hover {\n",
              "      background-color: #434B5C;\n",
              "      box-shadow: 0px 1px 3px 1px rgba(0, 0, 0, 0.15);\n",
              "      filter: drop-shadow(0px 1px 2px rgba(0, 0, 0, 0.3));\n",
              "      fill: #FFFFFF;\n",
              "    }\n",
              "  </style>\n",
              "\n",
              "      <script>\n",
              "        const buttonEl =\n",
              "          document.querySelector('#df-b54b0097-bae6-4fe6-85d5-f79c800e82ec button.colab-df-convert');\n",
              "        buttonEl.style.display =\n",
              "          google.colab.kernel.accessAllowed ? 'block' : 'none';\n",
              "\n",
              "        async function convertToInteractive(key) {\n",
              "          const element = document.querySelector('#df-b54b0097-bae6-4fe6-85d5-f79c800e82ec');\n",
              "          const dataTable =\n",
              "            await google.colab.kernel.invokeFunction('convertToInteractive',\n",
              "                                                     [key], {});\n",
              "          if (!dataTable) return;\n",
              "\n",
              "          const docLinkHtml = 'Like what you see? Visit the ' +\n",
              "            '<a target=\"_blank\" href=https://colab.research.google.com/notebooks/data_table.ipynb>data table notebook</a>'\n",
              "            + ' to learn more about interactive tables.';\n",
              "          element.innerHTML = '';\n",
              "          dataTable['output_type'] = 'display_data';\n",
              "          await google.colab.output.renderOutput(dataTable, element);\n",
              "          const docLink = document.createElement('div');\n",
              "          docLink.innerHTML = docLinkHtml;\n",
              "          element.appendChild(docLink);\n",
              "        }\n",
              "      </script>\n",
              "    </div>\n",
              "  </div>\n",
              "  "
            ]
          },
          "metadata": {},
          "execution_count": 30
        }
      ]
    },
    {
      "cell_type": "markdown",
      "source": [
        "# Other\n",
        "The book still lists age proxy, and size indicator as deciles per period. It is not done here as I did not get this data from brazilian stocks.\n",
        "\n",
        "\n"
      ],
      "metadata": {
        "id": "YXPxgLoCZI_O"
      }
    },
    {
      "cell_type": "markdown",
      "source": [
        "# Store data"
      ],
      "metadata": {
        "id": "WGtC2iSPZmRU"
      }
    },
    {
      "cell_type": "code",
      "source": [
        "data.sort_index().loc[idx[:, :datetime.now()], :].to_csv('engineered_features.csv')"
      ],
      "metadata": {
        "id": "B0hacDxUbBvb"
      },
      "execution_count": 36,
      "outputs": []
    },
    {
      "cell_type": "markdown",
      "source": [
        "# Dummy variables for modeling"
      ],
      "metadata": {
        "id": "CMxzVr7XaptH"
      }
    },
    {
      "cell_type": "code",
      "source": [
        "data.columns"
      ],
      "metadata": {
        "colab": {
          "base_uri": "https://localhost:8080/"
        },
        "id": "9HeTxORmgETk",
        "outputId": "b300cf5e-b587-4767-fe34-fbabce449666"
      },
      "execution_count": 38,
      "outputs": [
        {
          "output_type": "execute_result",
          "data": {
            "text/plain": [
              "Index(['return_1m', 'return_2m', 'return_3m', 'return_6m', 'return_9m',\n",
              "       'return_12m', 'Mkt-RF', 'SMB', 'HML', 'RMW', 'CMA', 'momentum_2',\n",
              "       'momentum_3', 'momentum_6', 'momentum_9', 'momentum_12',\n",
              "       'momentum_3_12', 'year', 'month', 'return_1m_t-1', 'return_1m_t-2',\n",
              "       'return_1m_t-3', 'return_1m_t-4', 'return_1m_t-5', 'return_1m_t-6',\n",
              "       'target_1m', 'target_2m', 'target_3m', 'target_6m', 'target_12m'],\n",
              "      dtype='object')"
            ]
          },
          "metadata": {},
          "execution_count": 38
        }
      ]
    },
    {
      "cell_type": "code",
      "source": [
        "dummy_data = pd.get_dummies(data,\n",
        "                            columns=['year','month'],\n",
        "                            prefix=['year','month'],\n",
        "                            prefix_sep=['_', '_'])\n",
        "dummy_data = dummy_data.rename(columns={c:c.replace('.0', '') for c in dummy_data.columns})\n",
        "dummy_data.info()"
      ],
      "metadata": {
        "colab": {
          "base_uri": "https://localhost:8080/"
        },
        "id": "q5DqR2poaqkM",
        "outputId": "05f9cbbd-e11f-4855-e3a1-1aa2f3943172"
      },
      "execution_count": 39,
      "outputs": [
        {
          "output_type": "stream",
          "name": "stdout",
          "text": [
            "<class 'pandas.core.frame.DataFrame'>\n",
            "MultiIndex: 2104 entries, ('ABEV3.SA', Timestamp('2019-02-28 00:00:00', freq='M')) to ('WEGE3.SA', Timestamp('2023-02-28 00:00:00', freq='M'))\n",
            "Data columns (total 45 columns):\n",
            " #   Column         Non-Null Count  Dtype  \n",
            "---  ------         --------------  -----  \n",
            " 0   return_1m      2104 non-null   float64\n",
            " 1   return_2m      2104 non-null   float64\n",
            " 2   return_3m      2104 non-null   float64\n",
            " 3   return_6m      2104 non-null   float64\n",
            " 4   return_9m      2104 non-null   float64\n",
            " 5   return_12m     2104 non-null   float64\n",
            " 6   Mkt-RF         2104 non-null   float64\n",
            " 7   SMB            2104 non-null   float64\n",
            " 8   HML            2104 non-null   float64\n",
            " 9   RMW            2104 non-null   float64\n",
            " 10  CMA            2104 non-null   float64\n",
            " 11  momentum_2     2104 non-null   float64\n",
            " 12  momentum_3     2104 non-null   float64\n",
            " 13  momentum_6     2104 non-null   float64\n",
            " 14  momentum_9     2104 non-null   float64\n",
            " 15  momentum_12    2104 non-null   float64\n",
            " 16  momentum_3_12  2104 non-null   float64\n",
            " 17  return_1m_t-1  2061 non-null   float64\n",
            " 18  return_1m_t-2  2018 non-null   float64\n",
            " 19  return_1m_t-3  1975 non-null   float64\n",
            " 20  return_1m_t-4  1932 non-null   float64\n",
            " 21  return_1m_t-5  1889 non-null   float64\n",
            " 22  return_1m_t-6  1846 non-null   float64\n",
            " 23  target_1m      2061 non-null   float64\n",
            " 24  target_2m      2018 non-null   float64\n",
            " 25  target_3m      1975 non-null   float64\n",
            " 26  target_6m      1846 non-null   float64\n",
            " 27  target_12m     1588 non-null   float64\n",
            " 28  year_2019      2104 non-null   uint8  \n",
            " 29  year_2020      2104 non-null   uint8  \n",
            " 30  year_2021      2104 non-null   uint8  \n",
            " 31  year_2022      2104 non-null   uint8  \n",
            " 32  year_2023      2104 non-null   uint8  \n",
            " 33  month_1        2104 non-null   uint8  \n",
            " 34  month_2        2104 non-null   uint8  \n",
            " 35  month_3        2104 non-null   uint8  \n",
            " 36  month_4        2104 non-null   uint8  \n",
            " 37  month_5        2104 non-null   uint8  \n",
            " 38  month_6        2104 non-null   uint8  \n",
            " 39  month_7        2104 non-null   uint8  \n",
            " 40  month_8        2104 non-null   uint8  \n",
            " 41  month_9        2104 non-null   uint8  \n",
            " 42  month_10       2104 non-null   uint8  \n",
            " 43  month_11       2104 non-null   uint8  \n",
            " 44  month_12       2104 non-null   uint8  \n",
            "dtypes: float64(28), uint8(17)\n",
            "memory usage: 567.9+ KB\n"
          ]
        }
      ]
    },
    {
      "cell_type": "code",
      "source": [],
      "metadata": {
        "id": "yu9sMRYHftEJ"
      },
      "execution_count": null,
      "outputs": []
    }
  ]
}